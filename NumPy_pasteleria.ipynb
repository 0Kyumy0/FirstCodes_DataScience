{
  "nbformat": 4,
  "nbformat_minor": 0,
  "metadata": {
    "colab": {
      "provenance": [],
      "toc_visible": true,
      "authorship_tag": "ABX9TyOMo/T3NP0pWb4d7ZJunlAg",
      "include_colab_link": true
    },
    "kernelspec": {
      "name": "python3",
      "display_name": "Python 3"
    },
    "language_info": {
      "name": "python"
    }
  },
  "cells": [
    {
      "cell_type": "markdown",
      "metadata": {
        "id": "view-in-github",
        "colab_type": "text"
      },
      "source": [
        "<a href=\"https://colab.research.google.com/github/0Kyumy0/FirstCodes_DataScience/blob/Learning_Colaboratory/NumPy_pasteleria.ipynb\" target=\"_parent\"><img src=\"https://colab.research.google.com/assets/colab-badge.svg\" alt=\"Open In Colab\"/></a>"
      ]
    },
    {
      "cell_type": "markdown",
      "source": [
        "El precio de venta de 3 artículos en la venta de pasteles es: 2 por un brownie, 1 por una galleta y 10 por un pastel.\n",
        "\n",
        "El club vende 17 brownies, 40 galletas y un pastel."
      ],
      "metadata": {
        "id": "dfLSsFEGdG8E"
      }
    },
    {
      "cell_type": "code",
      "source": [
        "import numpy as np"
      ],
      "metadata": {
        "id": "oW-O6oisy85x"
      },
      "execution_count": null,
      "outputs": []
    },
    {
      "cell_type": "code",
      "execution_count": null,
      "metadata": {
        "id": "MKNPkhwXbl_H",
        "colab": {
          "base_uri": "https://localhost:8080/"
        },
        "outputId": "c335feca-6110-482f-e92e-ade431cbcb03"
      },
      "outputs": [
        {
          "output_type": "execute_result",
          "data": {
            "text/plain": [
              "numpy.ndarray"
            ]
          },
          "metadata": {},
          "execution_count": 2
        }
      ],
      "source": [
        "price = [2, 1, 10]\n",
        "quantity_sold = [17, 40, 1]\n",
        "\n",
        "# se convierten las listas en arrays\n",
        "price_array = np.array(price)\n",
        "quantity_sold_array = np.array(quantity_sold)\n",
        "type(price_array)"
      ]
    },
    {
      "cell_type": "markdown",
      "source": [
        "### NOTA: Cálculo **elementwise** (elemento a elemento) ❗❗❗❗\n",
        "La multiplicación se aplicó entre el primer elemento de cada \n",
        "array, y luego entre el segundo elemento de cada array, y así sucesivamente.  "
      ],
      "metadata": {
        "id": "EMCKl4100ywI"
      }
    },
    {
      "cell_type": "code",
      "source": [
        "price_array * quantity_sold_array"
      ],
      "metadata": {
        "colab": {
          "base_uri": "https://localhost:8080/"
        },
        "id": "lpbqvL3JzqKX",
        "outputId": "cb6075e7-f0f3-4386-e9ba-04a0c9d7cf32"
      },
      "execution_count": null,
      "outputs": [
        {
          "output_type": "execute_result",
          "data": {
            "text/plain": [
              "array([34, 40, 10])"
            ]
          },
          "metadata": {},
          "execution_count": 3
        }
      ]
    },
    {
      "cell_type": "markdown",
      "source": [
        "Costo de fabricación para cada elemento 0,25 para hacer un brownie, una galleta, 0,50 y un pastel, 5,00."
      ],
      "metadata": {
        "id": "166Nsluj0Lxp"
      }
    },
    {
      "cell_type": "code",
      "source": [
        "cost_array = np.array([0.25, 0.50, 5.00])"
      ],
      "metadata": {
        "id": "gTdO7Xt-0ML_"
      },
      "execution_count": null,
      "outputs": []
    },
    {
      "cell_type": "code",
      "source": [
        "profit_array = price_array - cost_array\n",
        "print(profit_array)"
      ],
      "metadata": {
        "colab": {
          "base_uri": "https://localhost:8080/"
        },
        "id": "c_1ywe6i0hdO",
        "outputId": "cdf180a2-6594-414c-da5e-2935c9d429ef"
      },
      "execution_count": null,
      "outputs": [
        {
          "output_type": "stream",
          "name": "stdout",
          "text": [
            "[1.75 0.5  5.  ]\n"
          ]
        }
      ]
    },
    {
      "cell_type": "markdown",
      "source": [
        "Identificar qué elementos obtuvieron un beneficio superior a $2 por elemento. "
      ],
      "metadata": {
        "id": "rDUKexX7167p"
      }
    },
    {
      "cell_type": "code",
      "source": [
        "profit_array > 2.00"
      ],
      "metadata": {
        "colab": {
          "base_uri": "https://localhost:8080/"
        },
        "id": "kt1v6cPu10_o",
        "outputId": "51beea4b-33fd-435d-e168-66618fcc2778"
      },
      "execution_count": null,
      "outputs": [
        {
          "output_type": "execute_result",
          "data": {
            "text/plain": [
              "array([False, False,  True])"
            ]
          },
          "metadata": {},
          "execution_count": 6
        }
      ]
    },
    {
      "cell_type": "markdown",
      "source": [
        "Agreagamos el precio de un nuevo elemento: tarta con precio de 7"
      ],
      "metadata": {
        "id": "3ev9G_Dy2fv3"
      }
    },
    {
      "cell_type": "code",
      "source": [
        "# the proper way to append an element to an array\n",
        "price_array = np.append(price_array, 7)\n",
        "print(price_array)"
      ],
      "metadata": {
        "colab": {
          "base_uri": "https://localhost:8080/"
        },
        "id": "qB4NUH2Q2dpY",
        "outputId": "38684213-4674-4bfa-c33a-f3d9e3f5e110"
      },
      "execution_count": null,
      "outputs": [
        {
          "output_type": "stream",
          "name": "stdout",
          "text": [
            "[ 2  1 10  7]\n"
          ]
        }
      ]
    },
    {
      "cell_type": "markdown",
      "source": [
        "El club quiere agregar los siguientes precios: 4,50 por dulces, 3 por una magdalena, 4 por una barra de pan de plátano y 9 por una torta.  Al haber un valor flotante, convirtió a los demás en flotates."
      ],
      "metadata": {
        "id": "FHJPnMrc207_"
      }
    },
    {
      "cell_type": "code",
      "source": [
        "price_array = np.append(price_array, [4.50, 3, 4, 9])\n",
        "print(price_array)"
      ],
      "metadata": {
        "colab": {
          "base_uri": "https://localhost:8080/"
        },
        "id": "pghonec_2z0W",
        "outputId": "66547130-b89e-41f7-dcab-1ca2fbf193d6"
      },
      "execution_count": null,
      "outputs": [
        {
          "output_type": "stream",
          "name": "stdout",
          "text": [
            "[ 2.   1.  10.   7.   4.5  3.   4.   9. ]\n"
          ]
        }
      ]
    },
    {
      "cell_type": "code",
      "source": [
        "# comprobar el tipo de elementos en la lista\n",
        "print(price_array.dtype)"
      ],
      "metadata": {
        "colab": {
          "base_uri": "https://localhost:8080/"
        },
        "id": "sUaLWRO03F6-",
        "outputId": "defd4aad-d07d-4aed-cce1-2bf8809a969a"
      },
      "execution_count": null,
      "outputs": [
        {
          "output_type": "stream",
          "name": "stdout",
          "text": [
            "float64\n"
          ]
        }
      ]
    },
    {
      "cell_type": "markdown",
      "source": [
        "Quieren eliminar el precio de la torta del array. "
      ],
      "metadata": {
        "id": "pv08x8jM4Grl"
      }
    },
    {
      "cell_type": "code",
      "source": [
        "price_array = np.delete(price_array, -1)\n",
        "print(price_array)"
      ],
      "metadata": {
        "colab": {
          "base_uri": "https://localhost:8080/"
        },
        "id": "3QVcbbzz4Fyn",
        "outputId": "8d8e571f-5f16-40d3-aae2-0e52b4842dbd"
      },
      "execution_count": null,
      "outputs": [
        {
          "output_type": "stream",
          "name": "stdout",
          "text": [
            "[ 2.   1.  10.   7.   4.5  3.   4. ]\n"
          ]
        }
      ]
    },
    {
      "cell_type": "markdown",
      "source": [
        "Después el club decide subir el precio de los pasteles de 10 a 12."
      ],
      "metadata": {
        "id": "oiN7rjsOOaey"
      }
    },
    {
      "cell_type": "code",
      "source": [
        "price_array[2] = 12\n",
        "print(price_array)"
      ],
      "metadata": {
        "colab": {
          "base_uri": "https://localhost:8080/"
        },
        "id": "-ipqhBzkOXDR",
        "outputId": "897402c4-d855-4a34-fdde-5079223fa05e"
      },
      "execution_count": null,
      "outputs": [
        {
          "output_type": "stream",
          "name": "stdout",
          "text": [
            "[ 2.   1.  12.   7.   4.5  3.   4. ]\n"
          ]
        }
      ]
    },
    {
      "cell_type": "markdown",
      "source": [
        "# Orden\n",
        "\n",
        "\n",
        "*   Brownies\n",
        "*   Galletas\n",
        "*   Pastel\n",
        "*   Tarta\n",
        "*   Dulces\n",
        "*   Magdalenas\n",
        "*   Pan de plátano\n",
        "\n",
        "\n",
        "\n",
        "\n",
        "\n",
        "\n",
        "\n"
      ],
      "metadata": {
        "id": "YVQ3pGFuPWrZ"
      }
    },
    {
      "cell_type": "markdown",
      "source": [
        "Actualizar la venta de 2 tartas, 3 bandejas de dulces, 16 magdalenas y 5 panes de plátano.  También se darán cuenta que una de las galletas que pensaron que se había vendido en realidad se cayó al suelo, así que editen quantity_sold_array de 40 a 39.  "
      ],
      "metadata": {
        "id": "kHP86K98QFZ7"
      }
    },
    {
      "cell_type": "code",
      "source": [
        "quantity_sold_array = np.append(quantity_sold_array, [2, 3, 16, 5])\n",
        "quantity_sold_array[1] = 39\n",
        "print(quantity_sold_array)"
      ],
      "metadata": {
        "colab": {
          "base_uri": "https://localhost:8080/"
        },
        "id": "sl9x4ssuPrs_",
        "outputId": "23f4c228-d422-407d-f715-b2df33048d18"
      },
      "execution_count": null,
      "outputs": [
        {
          "output_type": "stream",
          "name": "stdout",
          "text": [
            "[17 39  1  2  3 16  5]\n"
          ]
        }
      ]
    },
    {
      "cell_type": "markdown",
      "source": [
        "Determinar la cantidad de dinero recaudado de la venta de cada elemento en la venta de la panadería.  "
      ],
      "metadata": {
        "id": "TWRMHx46RxlW"
      }
    },
    {
      "cell_type": "code",
      "source": [
        "total_sale = sum(quantity_sold_array * price_array)"
      ],
      "metadata": {
        "id": "XbUIHp5gR03P"
      },
      "execution_count": null,
      "outputs": []
    },
    {
      "cell_type": "markdown",
      "source": [
        "Crear un array de NumPy \"quantity_leftover\" que incluya la cantidad de cada elemento restante al final de la venta: 2 pasteles, 1 tarta, 6 bandejas de dulces, 2 panes de plátano.  Pista: Asegúrense de incluir “0” de cada elemento que se haya vendido.\n",
        "\n",
        "\n",
        "*   ¿Por qué esto es importante cuando se crea un array?\n",
        "\n",
        "Porque si no se colocaran los elementos vendidos (\"0\"), alteraría el orden del array y los datos serían erroneos."
      ],
      "metadata": {
        "id": "9l6Z5Kb5S2O_"
      }
    },
    {
      "cell_type": "code",
      "source": [
        "quantity_leftover = [0, 0, 2, 1, 6, 0, 2]"
      ],
      "metadata": {
        "id": "8WZ9hHVeS_U4"
      },
      "execution_count": null,
      "outputs": []
    },
    {
      "cell_type": "code",
      "source": [
        "quantity_leftover_array = np.array(quantity_leftover)\n",
        "print(quantity_leftover_array)"
      ],
      "metadata": {
        "colab": {
          "base_uri": "https://localhost:8080/"
        },
        "id": "g2zXbfgWTr6V",
        "outputId": "bd21b4a8-1d91-4f4c-9252-e19f7250b09e"
      },
      "execution_count": null,
      "outputs": [
        {
          "output_type": "stream",
          "name": "stdout",
          "text": [
            "[0 0 2 1 6 0 2]\n"
          ]
        }
      ]
    },
    {
      "cell_type": "markdown",
      "source": [
        "El club decide vender los elementos restantes a mitad de precio, y todo se venda rápidamente.  Determinen cuanto dinero se recaudó de la venta de liquidación.  "
      ],
      "metadata": {
        "id": "vz91I1O_T8r-"
      }
    },
    {
      "cell_type": "code",
      "source": [
        "total_sale_leftover = sum((quantity_leftover_array * price_array)/2)"
      ],
      "metadata": {
        "id": "oDFeEXnqT3yl"
      },
      "execution_count": null,
      "outputs": []
    },
    {
      "cell_type": "markdown",
      "source": [
        "¿Cuánto dinero total se recaudó de la venta de panadería (incluido la venta del precio total y los elementos liquidados)?"
      ],
      "metadata": {
        "id": "icev2YkIUVfl"
      }
    },
    {
      "cell_type": "code",
      "source": [
        "total = total_sale + total_sale_leftover\n",
        "print(\"The final total sale is: $\", total)"
      ],
      "metadata": {
        "colab": {
          "base_uri": "https://localhost:8080/"
        },
        "id": "WlCXJghnUZYm",
        "outputId": "d0ee2704-0a47-471b-c352-d222a5208956"
      },
      "execution_count": null,
      "outputs": [
        {
          "output_type": "stream",
          "name": "stdout",
          "text": [
            "The final total sale is: $ 213.5\n"
          ]
        }
      ]
    }
  ]
}